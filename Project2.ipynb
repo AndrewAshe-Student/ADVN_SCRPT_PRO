{
 "cells": [
  {
   "cell_type": "code",
   "execution_count": 1,
   "id": "20bc0007",
   "metadata": {},
   "outputs": [
    {
     "name": "stdout",
     "output_type": "stream",
     "text": [
      "The history saving thread hit an unexpected error (OperationalError('database or disk is full')).History will not be written to the database.\n"
     ]
    }
   ],
   "source": [
    "import requests\n",
    "import json\n",
    "import pandas as pd\n",
    "\n",
    "# API\n",
    "# https://carapi.app/api#/Models/makemodels%3Aindex%3Aget\n",
    "url = \"https://www.carqueryapi.com/api/0.3/\"\n",
    "makes = \"https://car-api2.p.rapidapi.com/api/makes\"\n",
    "years = \"https://car-api2.p.rapidapi.com/api/years\"\n",
    "models = \"https://car-api2.p.rapidapi.com/api/models\"\n",
    "engines = \"https://car-api2.p.rapidapi.com/api/engines\"\n",
    "\n",
    "headers = {\n",
    "    \"X-RapidAPI-Key\": \"a128349cd3msha07615f87e1be36p146ca1jsn2b1dce4fe9d3\",\n",
    "    \"X-RapidAPI-Host\": \"car-api2.p.rapidapi.com\"\n",
    "}"
   ]
  },
  {
   "cell_type": "code",
   "execution_count": 2,
   "id": "af88b12f",
   "metadata": {},
   "outputs": [],
   "source": [
    "def getMakesByYear():\n",
    "    year = input(\"Please enter the year of the car you wish to find: \") or \"2020\"\n",
    "    params = {\n",
    "        \"year\": year\n",
    "    }\n",
    "    \n",
    "    response = requests.request(\"GET\", makes, headers=headers, params=params)\n",
    "    #Response 200, successful query\n",
    "    car_data = response.json()\n",
    "    car_data = car_data[\"data\"]\n",
    "    \n",
    "    print(f\"Here is a list of manufacturers that released cars in the year: {year}\")\n",
    "    \n",
    "    for manufacturer in car_data:\n",
    "        print(manufacturer[\"name\"])\n",
    "    return year"
   ]
  },
  {
   "cell_type": "code",
   "execution_count": null,
   "id": "25bc0280",
   "metadata": {},
   "outputs": [],
   "source": [
    "def getCarModelsByMake(year):\n",
    "    make = input(\"Please enter the make you wish to find: \") or \"Volvo\"\n",
    "    params = {\n",
    "        \"year\": year,\n",
    "        \"make\": make\n",
    "    }\n",
    "    response = requests.request(\"GET\", models, headers=headers, params=params)\n",
    "    #Response 200, successful query\n",
    "    car_data = response.json()\n",
    "    data = car_data[\"data\"]\n",
    "    try:\n",
    "        for item in data:\n",
    "            print(f\"{make}, Model: \" + item[\"name\"])\n",
    "    except TypeError:\n",
    "        pass\n",
    "    return make\n",
    "#     for item in data:\n",
    "#         print(f\"{make}, Model: \" + item[\"name\"]) \n",
    "        \n",
    "#     try:\n",
    "#         for item in model:\n",
    "#                 print(item)\n",
    "#     except TypeError:\n",
    "#         pass\n",
    "# getCarModelsByMake(\"Audi\")"
   ]
  },
  {
   "cell_type": "code",
   "execution_count": null,
   "id": "a0d63a34",
   "metadata": {},
   "outputs": [],
   "source": [
    "def getEngineByModel(year, make, model):\n",
    "    params = {\n",
    "        \"year\": year,\n",
    "        \"verbose\": \"yes\",\n",
    "        \"make\": make,\n",
    "        \"model\": model\n",
    "    }\n",
    "    count = 0\n",
    "    response = requests.request(\"GET\", engines, headers=headers, params=params)\n",
    "    car_data = response.json()\n",
    "    print(model)\n",
    "    for item in car_data[\"data\"]:\n",
    "        count += 1\n",
    "        data = print(item[\"engine_type\"], item[\"size\"], item[\"horsepower_hp\"], item[\"drive_type\"], count)\n",
    "        return data\n",
    "#         car_info = {\n",
    "#             \"info\": [\n",
    "#                 {\"engine_type\": item[\"engine_type\"],\n",
    "#                  \"engine_size\": item[\"size\"],\n",
    "#                  \"horse_power\": item[\"horsepower_hp\"]}\n",
    "#             ]\n",
    "#         }\n",
    "#     df = pd.DataFrame(car_info[\"info\"])\n",
    "#     df = df[[\"engine_type\", \"engine_size\", \"horse_power\"]]\n",
    "#     print(df)\n",
    "#     print(df, \"\\n\")\n",
    "    \n",
    "# getEngineByModel(\"MDX\")"
   ]
  },
  {
   "cell_type": "code",
   "execution_count": null,
   "id": "de690c85",
   "metadata": {},
   "outputs": [],
   "source": [
    "def modelSelect():\n",
    "    model_select = input(\"Please select a model from the list for more details: \") or \"XC90\"\n",
    "    print(f\"Selection: {model_select}\")\n",
    "    model = model_select\n",
    "    return model"
   ]
  },
  {
   "cell_type": "code",
   "execution_count": null,
   "id": "8a7daede",
   "metadata": {},
   "outputs": [],
   "source": [
    "def searchOptions(year):\n",
    "    search = {}\n",
    "    for i in range(1):\n",
    "        make1 = input(\"Make: \") or \"BMW\"\n",
    "        model1 = input(\"Model: \") or \"M4\"\n",
    "        engine1 = input(\"Engine: \") or \"5.0\"\n",
    "        search = (year, make1, model1, engine1)\n",
    "    return search"
   ]
  },
  {
   "cell_type": "code",
   "execution_count": null,
   "id": "0f9a7e0c",
   "metadata": {},
   "outputs": [],
   "source": [
    "if __name__ == \"__main__\":\n",
    "    year = getMakesByYear()\n",
    "    make = getCarModelsByMake(year)\n",
    "    model = modelSelect()\n",
    "    engineData = getEngineByModel(year, make, model)\n",
    "\n",
    "    print(make, model, engineData)\n",
    "#     search = search_options(year)\n",
    "#     print(search)"
   ]
  },
  {
   "cell_type": "code",
   "execution_count": null,
   "id": "1d537e16",
   "metadata": {},
   "outputs": [],
   "source": [
    "def getEngineByCar(model, search):\n",
    "    params = {\n",
    "        \"year\": \"2020\",\n",
    "        \"verbose\": \"yes\",\n",
    "        \"make\": \"Audi\",\n",
    "        \"model\": model\n",
    "    }\n",
    "    response = requests.request(\"GET\", engines, headers=headers, params=params)\n",
    "    car_data = response.json()\n",
    "    print(model)\n",
    "    print(\"| Engine type | Engine Size | Horsepower |\")\n",
    "#     print(car_data[\"data\"])\n",
    "#     for item in car_data:\n",
    "#         print(item[\"description\"])\n",
    "#     for item in car_data[\"data\"]:\n",
    "#         print(\"| \", item[\"engine_type\"], \" | \" , item[\"size\"], \" | \" , item[\"horsepower_hp\"], \" | \" , item[\"drive_type\"], \" | \")\n",
    "\n",
    "# getEngineByCar(\"A3\")"
   ]
  },
  {
   "cell_type": "code",
   "execution_count": null,
   "id": "61d4c625",
   "metadata": {},
   "outputs": [],
   "source": []
  }
 ],
 "metadata": {
  "kernelspec": {
   "display_name": "Python 3 (ipykernel)",
   "language": "python",
   "name": "python3"
  },
  "language_info": {
   "codemirror_mode": {
    "name": "ipython",
    "version": 3
   },
   "file_extension": ".py",
   "mimetype": "text/x-python",
   "name": "python",
   "nbconvert_exporter": "python",
   "pygments_lexer": "ipython3",
   "version": "3.10.7"
  }
 },
 "nbformat": 4,
 "nbformat_minor": 5
}
